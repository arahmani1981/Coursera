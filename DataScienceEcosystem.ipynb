{
 "cells": [
  {
   "cell_type": "markdown",
   "id": "59581971",
   "metadata": {},
   "source": [
    "# Data Science Tools and Ecosystem"
   ]
  },
  {
   "cell_type": "markdown",
   "id": "fdca3aa9",
   "metadata": {},
   "source": [
    "**Objectives:**\n",
    "* List popular languages for Data Science\n",
    "* List popular libraries for Data Scientists\n",
    "* Data science tools"
   ]
  },
  {
   "cell_type": "markdown",
   "id": "bce6c81c",
   "metadata": {},
   "source": [
    "In this notebook, Data Science Tools and Ecosystem are summarized."
   ]
  },
  {
   "cell_type": "markdown",
   "id": "b8ea1972",
   "metadata": {},
   "source": [
    "Some of the popular languages that Data Scientists use are:\n",
    "1- Python\n",
    "2- R\n",
    "3- Java\n",
    "4- Scala\n",
    "5- SQL"
   ]
  },
  {
   "cell_type": "markdown",
   "id": "30c081f2",
   "metadata": {},
   "source": [
    "Some of the commonly used libraries used by Data Scientists include:\n",
    "1- scikit\n",
    "2- TensorFlow\n",
    "3-PyTorch"
   ]
  },
  {
   "cell_type": "markdown",
   "id": "847eb7d9",
   "metadata": {},
   "source": [
    "Data Science Tools:\n",
    "RStudio.\n",
    "Apache Spark.\n",
    "TensorFlow.\n",
    "Apache Hadoop.\n",
    "RapidMiner."
   ]
  },
  {
   "cell_type": "markdown",
   "id": "6aae7c15",
   "metadata": {},
   "source": [
    "### Below are a few examples of evaluating arithmetic expressions in Python"
   ]
  },
  {
   "cell_type": "code",
   "execution_count": 4,
   "id": "4755d0cf",
   "metadata": {},
   "outputs": [
    {
     "name": "stdout",
     "output_type": "stream",
     "text": [
      "17\n"
     ]
    }
   ],
   "source": [
    "# This a simple arithmetic expression to mutiply then add integers\n",
    "a = (3*4)+5\n",
    "print(a)"
   ]
  },
  {
   "cell_type": "code",
   "execution_count": 5,
   "id": "a99e647e",
   "metadata": {},
   "outputs": [
    {
     "name": "stdout",
     "output_type": "stream",
     "text": [
      "3.3333333333333335\n"
     ]
    }
   ],
   "source": [
    "# This will convert 200 minutes to hours by diving by 60\n",
    "M = 200\n",
    "H = M / 60\n",
    "print(H)\n"
   ]
  },
  {
   "cell_type": "markdown",
   "id": "54f7c6e2",
   "metadata": {},
   "source": [
    "## Author\n",
    "Ahmad Rahmani"
   ]
  }
 ],
 "metadata": {
  "kernelspec": {
   "display_name": "Python 3 (ipykernel)",
   "language": "python",
   "name": "python3"
  },
  "language_info": {
   "codemirror_mode": {
    "name": "ipython",
    "version": 3
   },
   "file_extension": ".py",
   "mimetype": "text/x-python",
   "name": "python",
   "nbconvert_exporter": "python",
   "pygments_lexer": "ipython3",
   "version": "3.11.2"
  }
 },
 "nbformat": 4,
 "nbformat_minor": 5
}
